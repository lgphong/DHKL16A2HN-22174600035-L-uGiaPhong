{
 "cells": [
  {
   "cell_type": "code",
   "execution_count": 1,
   "metadata": {},
   "outputs": [
    {
     "name": "stdout",
     "output_type": "stream",
     "text": [
      "kết quả sau khi chia là: \n",
      " 0      P4\n",
      "1      P9\n",
      "2      P9\n",
      "3      P1\n",
      "4      P8\n",
      "5      P5\n",
      "6      P7\n",
      "7      P3\n",
      "8      P5\n",
      "9      P6\n",
      "10     P1\n",
      "11     P6\n",
      "12     P3\n",
      "13    P10\n",
      "14     P2\n",
      "15     P8\n",
      "16     P4\n",
      "17     P7\n",
      "18     P2\n",
      "19    P10\n",
      "dtype: category\n",
      "Categories (10, object): ['P1' < 'P2' < 'P3' < 'P4' ... 'P7' < 'P8' < 'P9' < 'P10']\n"
     ]
    }
   ],
   "source": [
    "import numpy as np\n",
    "import pandas as pd \n",
    "\n",
    "ser = pd.Series(np.random.random(20))\n",
    "\n",
    "labels = ['P' + str(i) for i in range (1,11)]\n",
    "ser =pd.qcut(ser,q = 10,labels = labels)\n",
    "\n",
    "print(\"kết quả sau khi chia là: \\n\",ser)"
   ]
  }
 ],
 "metadata": {
  "kernelspec": {
   "display_name": "Python 3",
   "language": "python",
   "name": "python3"
  },
  "language_info": {
   "codemirror_mode": {
    "name": "ipython",
    "version": 3
   },
   "file_extension": ".py",
   "mimetype": "text/x-python",
   "name": "python",
   "nbconvert_exporter": "python",
   "pygments_lexer": "ipython3",
   "version": "3.10.0"
  }
 },
 "nbformat": 4,
 "nbformat_minor": 2
}
