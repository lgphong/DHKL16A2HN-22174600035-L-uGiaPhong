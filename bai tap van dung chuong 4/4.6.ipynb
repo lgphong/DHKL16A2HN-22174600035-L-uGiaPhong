{
 "cells": [
  {
   "cell_type": "code",
   "execution_count": 1,
   "metadata": {},
   "outputs": [
    {
     "name": "stdout",
     "output_type": "stream",
     "text": [
      "số lần xuất hiện của mỗi giá trị trong ser là: \n",
      " a    6\n",
      "f    5\n",
      "d    4\n",
      "g    4\n",
      "b    4\n",
      "e    3\n",
      "h    2\n",
      "c    2\n",
      "Name: count, dtype: int64\n"
     ]
    }
   ],
   "source": [
    "import numpy as np\n",
    "import pandas as pd \n",
    "ser = pd.Series(np.take(list('abcdefgh'),np.random.randint(8, size =30)))\n",
    "tinh_so_lan_xuat_hien = ser.value_counts()\n",
    "print('số lần xuất hiện của mỗi giá trị trong ser là: \\n',tinh_so_lan_xuat_hien)\n"
   ]
  }
 ],
 "metadata": {
  "kernelspec": {
   "display_name": "Python 3",
   "language": "python",
   "name": "python3"
  },
  "language_info": {
   "codemirror_mode": {
    "name": "ipython",
    "version": 3
   },
   "file_extension": ".py",
   "mimetype": "text/x-python",
   "name": "python",
   "nbconvert_exporter": "python",
   "pygments_lexer": "ipython3",
   "version": "3.10.0"
  }
 },
 "nbformat": 4,
 "nbformat_minor": 2
}
