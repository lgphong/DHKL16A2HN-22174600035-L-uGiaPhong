{
 "cells": [
  {
   "cell_type": "code",
   "execution_count": 1,
   "metadata": {},
   "outputs": [],
   "source": [
    "\n",
    "import numpy as np\n",
    "\n",
    "with open(\"heights_1.txt\", \"r\") as f:\n",
    "    height = f.read().splitlines() \n",
    "\n",
    "with open(\"weights_1.txt\", \"r\") as f:\n",
    "    weight = f.read().splitlines() "
   ]
  },
  {
   "cell_type": "code",
   "execution_count": null,
   "metadata": {},
   "outputs": [],
   "source": [
    "\n",
    "arr_height = np.array(height, dtype=float) "
   ]
  },
  {
   "cell_type": "code",
   "execution_count": null,
   "metadata": {},
   "outputs": [],
   "source": [
    "\n",
    "arr_weight = np.array(weight, dtype=float)"
   ]
  },
  {
   "cell_type": "code",
   "execution_count": null,
   "metadata": {},
   "outputs": [],
   "source": [
    "\n",
    "arr_height_m = arr_height * 0.0254"
   ]
  },
  {
   "cell_type": "code",
   "execution_count": null,
   "metadata": {},
   "outputs": [],
   "source": [
    "\n",
    "arr_weight_kg = arr_weight * 0.453592 "
   ]
  },
  {
   "cell_type": "code",
   "execution_count": null,
   "metadata": {},
   "outputs": [],
   "source": [
    "\n",
    "arr_bmi = arr_weight_kg / (arr_height_m ** 2) "
   ]
  },
  {
   "cell_type": "code",
   "execution_count": null,
   "metadata": {},
   "outputs": [],
   "source": [
    "\n",
    "weight_50 = arr_weight_kg[50]\n",
    "\n",
    "print(\"Giá trị cân nặng ở vị trí index = 50 là:\", weight_50)"
   ]
  },
  {
   "cell_type": "code",
   "execution_count": null,
   "metadata": {},
   "outputs": [],
   "source": [
    "\n",
    "arr_height_m_100 = arr_height_m[100:111]\n",
    "\n",
    "\n",
    "print(\"arr_height_m_100 là:\", arr_height_m_100)\n"
   ]
  },
  {
   "cell_type": "code",
   "execution_count": null,
   "metadata": {},
   "outputs": [],
   "source": [
    "\n",
    "players_bmi_21 = arr_bmi[arr_bmi < 21]\n",
    "\n",
    "\n",
    "print(\"Các cầu thủ bóng chày có bmi < 21 là:\", players_bmi_21)"
   ]
  },
  {
   "cell_type": "code",
   "execution_count": null,
   "metadata": {},
   "outputs": [],
   "source": [
    "\n",
    "height_mean = np.mean(arr_height_m) \n",
    "weight_mean = np.mean(arr_weight_kg) \n",
    "\n",
    "\n",
    "print(\"Chiều cao trung bình của các cầu thủ là:\", height_mean)\n",
    "print(\"Cân nặng trung bình của các cầu thủ là:\", weight_mean)\n"
   ]
  },
  {
   "cell_type": "code",
   "execution_count": null,
   "metadata": {},
   "outputs": [],
   "source": [
    "\n",
    "height_max = np.max(arr_height_m) \n",
    "weight_max = np.max(arr_weight_kg)\n",
    "\n",
    "\n",
    "print(\"Chiều cao lớn nhất của các cầu thủ là:\", height_max)\n",
    "print(\"Cân nặng lớn nhất của các cầu thủ là:\", weight_max)"
   ]
  },
  {
   "cell_type": "code",
   "execution_count": null,
   "metadata": {},
   "outputs": [],
   "source": [
    "\n",
    "height_min = np.min(arr_height_m)\n",
    "weight_min = np.min(arr_weight_kg) \n",
    "\n",
    "print(\"Chiều cao nhỏ nhất của các cầu thủ là:\", height_min)\n",
    "print(\"Cân nặng nhỏ nhất của các cầu thủ là:\", weight_min)"
   ]
  }
 ],
 "metadata": {
  "kernelspec": {
   "display_name": "base",
   "language": "python",
   "name": "python3"
  },
  "language_info": {
   "codemirror_mode": {
    "name": "ipython",
    "version": 3
   },
   "file_extension": ".py",
   "mimetype": "text/x-python",
   "name": "python",
   "nbconvert_exporter": "python",
   "pygments_lexer": "ipython3",
   "version": "3.11.5"
  }
 },
 "nbformat": 4,
 "nbformat_minor": 2
}
