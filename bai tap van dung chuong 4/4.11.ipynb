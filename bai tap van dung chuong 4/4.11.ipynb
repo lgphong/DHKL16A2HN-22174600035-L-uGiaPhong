{
 "cells": [
  {
   "cell_type": "code",
   "execution_count": 2,
   "metadata": {},
   "outputs": [
    {
     "name": "stdout",
     "output_type": "stream",
     "text": [
      "Dữ liệu trích xuất là :\n",
      " 0     a\n",
      "4     d\n",
      "8     j\n",
      "14    p\n",
      "20    v\n",
      "dtype: object\n"
     ]
    }
   ],
   "source": [
    "import numpy as np\n",
    "import pandas as pd\n",
    "\n",
    "ser = pd.Series(list('abcedfghjklmnopqrstuvwxyz'))\n",
    "\n",
    "pos = [0 ,4 ,8 , 14 ,20]\n",
    "\n",
    "dl_trichxuat = ser.iloc[pos]\n",
    "\n",
    "print(\"Dữ liệu trích xuất là :\\n\",dl_trichxuat)"
   ]
  }
 ],
 "metadata": {
  "kernelspec": {
   "display_name": "Python 3",
   "language": "python",
   "name": "python3"
  },
  "language_info": {
   "codemirror_mode": {
    "name": "ipython",
    "version": 3
   },
   "file_extension": ".py",
   "mimetype": "text/x-python",
   "name": "python",
   "nbconvert_exporter": "python",
   "pygments_lexer": "ipython3",
   "version": "3.10.0"
  }
 },
 "nbformat": 4,
 "nbformat_minor": 2
}
