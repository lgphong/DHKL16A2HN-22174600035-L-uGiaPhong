{
 "cells": [
  {
   "cell_type": "code",
   "execution_count": null,
   "metadata": {},
   "outputs": [],
   "source": [
    "import threading\n",
    "import time\n",
    "\n",
    "# Định nghĩa hàm để mô phỏng hoạt động của Google\n",
    "def google():\n",
    "    print(\"Starting Google\")\n",
    "    for i in range(5):\n",
    "        print(f\"Google: Web {time.strftime('%b %d %H:%M:%S %Y')}\")\n",
    "        time.sleep(1)\n",
    "    print(\"Exiting Google\")\n",
    "\n",
    "# Định nghĩa hàm để mô phỏng hoạt động của Yahoo\n",
    "def yahoo():\n",
    "    print(\"Starting Yahoo\")\n",
    "    for i in range(4):\n",
    "        print(f\"Yahoo: Web {time.strftime('%b %d %H:%M:%S %Y')}\")\n",
    "        time.sleep(2)\n",
    "    print(\"Exiting Yahoo\")\n",
    "\n",
    "# Định nghĩa hàm để mô phỏng hoạt động của Facebook\n",
    "def facebook():\n",
    "    print(\"Starting Facebook\")\n",
    "    for i in range(3):\n",
    "        print(f\"Facebook: Web {time.strftime('%b %d %H:%M:%S %Y')}\")\n",
    "        time.sleep(3)\n",
    "    print(\"Exiting Facebook\")\n",
    "\n",
    "# Tạo các luồng và gán mục tiêu cho chúng\n",
    "google_thread = threading.Thread(target=google)\n",
    "yahoo_thread = threading.Thread(target=yahoo)\n",
    "facebook_thread = threading.Thread(target=facebook)\n",
    "\n",
    "# Bắt đầu các luồng\n",
    "print(\"Starting Main Thread\")\n",
    "google_thread.start()\n",
    "yahoo_thread.start()\n",
    "facebook_thread.start()\n",
    "\n",
    "# Đợi các luồng kết thúc\n",
    "google_thread.join()\n",
    "yahoo_thread.join()\n",
    "facebook_thread.join()\n",
    "print(\"Exiting Main Thread\")\n"
   ]
  }
 ],
 "metadata": {
  "language_info": {
   "name": "python"
  }
 },
 "nbformat": 4,
 "nbformat_minor": 2
}
