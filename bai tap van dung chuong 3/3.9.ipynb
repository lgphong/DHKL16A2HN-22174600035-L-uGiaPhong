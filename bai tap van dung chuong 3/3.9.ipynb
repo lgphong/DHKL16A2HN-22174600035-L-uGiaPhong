{
 "cells": [
  {
   "cell_type": "code",
   "execution_count": null,
   "metadata": {},
   "outputs": [],
   "source": [
    "import pandas as pd\n",
    "\n",
    "euro12 = pd.read_csv(\"euro2012.csv\")\n",
    "\n",
    "print(\"Kiểu dữ liệu của euro12 là:\", type(euro12))\n",
    "print(\"Kích thước của euro12 là:\", euro12.shape)\n",
    "print(\"Danh sách các cột của euro12 là:\", euro12.columns)\n",
    "\n",
    "print(\"Giá trị cột Goals là:\", euro12['Goals'])\n",
    "\n",
    "print(\"Số đội tham gia Euro2012 là:\", euro12['Team'].nunique())\n",
    "\n",
    "print(\"Thông tin của Euro2012 là:\")\n",
    "print(euro12.info())\n",
    "\n",
    "discipline = euro12[['Team', 'Yellow Cards', 'Red Cards']]\n",
    "discipline = discipline.sort_values(by=['Red Cards', 'Yellow Cards'], ascending=False)\n",
    "\n",
    "print(\"Trung bình Yellow Cards là:\", discipline['Yellow Cards'].mean())\n",
    "\n",
    "print(\"Các đội đã ghi hơn 6 bàn thắng là:\")\n",
    "print(euro12[euro12['Goals'] > 6]['Team'])\n",
    "\n",
    "print(\"Các đội mà tên bắt đầu bằng 'G' là:\")\n",
    "print(euro12[euro12['Team'].str.startswith('G')]['Team'])\n",
    "\n",
    "print(\"7 cột đầu của euro12 là:\")\n",
    "print(euro12.iloc[:, :7])\n",
    "\n",
    "print(\"Tất cả các cột, trừ 3 cột cuối của euro12 là:\")\n",
    "print(euro12.iloc[:, :-3])\n",
    "\n",
    "print(\"Các cột Team, Goals, Shooting Accuracy, Yellow Cards, Red Cards của euro12 là:\")\n",
    "print(euro12[['Team', 'Goals', 'Shooting Accuracy', 'Yellow Cards', 'Red Cards']])\n",
    "\n",
    "print(\"Các cột chỉ hiển thị 'Team','Shooting Accuracy' từ 'England', 'Italy', 'Russia' của euro12 là:\")\n",
    "print(euro12[euro12['Team'].isin(['England', 'Italy', 'Russia'])][['Team', 'Shooting Accuracy']])\n"
   ]
  }
 ],
 "metadata": {
  "language_info": {
   "name": "python"
  }
 },
 "nbformat": 4,
 "nbformat_minor": 2
}
