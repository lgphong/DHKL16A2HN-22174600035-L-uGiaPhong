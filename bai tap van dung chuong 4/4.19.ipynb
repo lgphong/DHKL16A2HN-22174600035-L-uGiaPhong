{
 "cells": [
  {
   "cell_type": "code",
   "execution_count": 4,
   "metadata": {},
   "outputs": [
    {
     "name": "stdout",
     "output_type": "stream",
     "text": [
      "[1.0, 2.0, 3.0, 4.0, 5.0, 6.0, 7.0, 8.0, 9.0, 10.0]\n",
      "['apple', 'banana', 'apple', 'carrot', 'carrot', 'carrot', 'carrot', 'carrot', 'carrot', 'apple']\n",
      "Khối lượng trung bình của từng loại quả là: \n",
      " fruits\n",
      "apple     4.666667\n",
      "banana    2.000000\n",
      "carrot    6.500000\n",
      "Name: weights, dtype: float64\n"
     ]
    }
   ],
   "source": [
    "import pandas as pd\n",
    "import numpy as np\n",
    "\n",
    "fruits = pd.Series(np.random.choice(['apple', 'banana', 'carrot'], 10))\n",
    "weights = pd.Series(np.linspace(1,10,10))\n",
    "print(weights.tolist())\n",
    "print(fruits.tolist())\n",
    "\n",
    "#> [1.0, 2.0, 3.0, 4.0, 5.0, 6.0, 7.0, 8.0, 9.0, 10.0]\n",
    "#>['banana', 'carrot',  'apple', 'carrot', 'carrot' , 'apple',' banana', 'carrot', 'apple', 'carrot']\n",
    "\n",
    "df = pd.DataFrame({'fruits':fruits,'weights':weights})\n",
    "khoi_luong_TB = df.groupby('fruits')['weights'].mean()\n",
    "\n",
    "print(\"Khối lượng trung bình của từng loại quả là: \\n\",khoi_luong_TB)\n",
    "\n",
    "\n"
   ]
  }
 ],
 "metadata": {
  "kernelspec": {
   "display_name": "Python 3",
   "language": "python",
   "name": "python3"
  },
  "language_info": {
   "codemirror_mode": {
    "name": "ipython",
    "version": 3
   },
   "file_extension": ".py",
   "mimetype": "text/x-python",
   "name": "python",
   "nbconvert_exporter": "python",
   "pygments_lexer": "ipython3",
   "version": "3.10.0"
  }
 },
 "nbformat": 4,
 "nbformat_minor": 2
}
