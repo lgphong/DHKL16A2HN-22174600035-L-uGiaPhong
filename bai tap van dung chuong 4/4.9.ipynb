{
 "cells": [
  {
   "cell_type": "code",
   "execution_count": 2,
   "metadata": {},
   "outputs": [
    {
     "name": "stdout",
     "output_type": "stream",
     "text": [
      "   0  1  2  3  4\n",
      "0  7  6  9  4  5\n",
      "1  9  8  1  1  7\n",
      "2  1  5  5  3  9\n",
      "3  3  1  9  5  6\n",
      "4  3  1  6  1  5\n",
      "5  6  9  3  6  6\n",
      "6  8  5  6  5  8\n"
     ]
    }
   ],
   "source": [
    "import pandas as pd\n",
    "import numpy as np\n",
    "\n",
    "ser = pd.Series(np.random.randint(1, 10, 35))\n",
    "\n",
    "df = pd.DataFrame(ser.values.reshape(7, 5))\n",
    "\n",
    "print(df)\n"
   ]
  }
 ],
 "metadata": {
  "kernelspec": {
   "display_name": "Python 3",
   "language": "python",
   "name": "python3"
  },
  "language_info": {
   "codemirror_mode": {
    "name": "ipython",
    "version": 3
   },
   "file_extension": ".py",
   "mimetype": "text/x-python",
   "name": "python",
   "nbconvert_exporter": "python",
   "pygments_lexer": "ipython3",
   "version": "3.10.0"
  }
 },
 "nbformat": 4,
 "nbformat_minor": 2
}
