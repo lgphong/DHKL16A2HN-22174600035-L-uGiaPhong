{
 "cells": [
  {
   "cell_type": "code",
   "execution_count": 6,
   "metadata": {},
   "outputs": [
    {
     "name": "stdout",
     "output_type": "stream",
     "text": [
      "giá trị tối thiểu của ser là :\n",
      " -0.9400439261722742\n",
      "phần centile thứ 25 của ser là :\n",
      " 6.507054982500492\n",
      "trung vị của ser là:\n",
      "  8.93105509336484\n",
      "phần centile thứ 75 của ser là: \n",
      " 10.819874003458775\n",
      "giá trị tối đa của ser là:\n",
      " 17.985880758904365\n"
     ]
    }
   ],
   "source": [
    "import numpy as np\n",
    "import pandas as pd\n",
    "ser = pd.Series(np.random.normal(10,5,25))\n",
    "gia_tri_toi_thieu = ser.min()\n",
    "\n",
    "percentile_25 = ser.quantile(0.25)\n",
    "\n",
    "median_ser = ser.median()\n",
    "\n",
    "percentile_75 = ser.quantile(0.75)\n",
    "\n",
    "gia_tri_toi_da = ser.max()\n",
    "\n",
    "print('giá trị tối thiểu của ser là :\\n',gia_tri_toi_thieu)\n",
    "print('phần centile thứ 25 của ser là :\\n',percentile_25)\n",
    "print('trung vị của ser là:\\n ',median_ser)\n",
    "print('phần centile thứ 75 của ser là: \\n',percentile_75)\n",
    "print('giá trị tối đa của ser là:\\n',gia_tri_toi_da)\n"
   ]
  }
 ],
 "metadata": {
  "kernelspec": {
   "display_name": "Python 3",
   "language": "python",
   "name": "python3"
  },
  "language_info": {
   "codemirror_mode": {
    "name": "ipython",
    "version": 3
   },
   "file_extension": ".py",
   "mimetype": "text/x-python",
   "name": "python",
   "nbconvert_exporter": "python",
   "pygments_lexer": "ipython3",
   "version": "3.10.0"
  }
 },
 "nbformat": 4,
 "nbformat_minor": 2
}
