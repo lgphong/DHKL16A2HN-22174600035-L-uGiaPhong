{
 "cells": [
  {
   "cell_type": "code",
   "execution_count": 1,
   "metadata": {},
   "outputs": [
    {
     "name": "stdout",
     "output_type": "stream",
     "text": [
      "       country  beer_servings  spirit_servings  wine_servings  \\\n",
      "0  Afghanistan              0                0              0   \n",
      "1      Albania             89              132             54   \n",
      "2      Algeria             25                0             14   \n",
      "3      Andorra            245              138            312   \n",
      "4       Angola            217               57             45   \n",
      "\n",
      "   total_litres_of_pure_alcohol continent  \n",
      "0                           0.0        AS  \n",
      "1                           4.9        EU  \n",
      "2                           0.7        AF  \n",
      "3                          12.4        EU  \n",
      "4                           5.9        AF  \n"
     ]
    }
   ],
   "source": [
    "import numpy as np \n",
    "import pandas as pd\n",
    "\n",
    "drink = pd.read_csv('drinks.csv',index_col=0)\n",
    "print(drink.head())"
   ]
  },
  {
   "cell_type": "code",
   "execution_count": 2,
   "metadata": {},
   "outputs": [
    {
     "name": "stdout",
     "output_type": "stream",
     "text": [
      "Lượng bia trung bình mà các nước tiêu thụ là : \n",
      " 106.16062176165804\n"
     ]
    }
   ],
   "source": [
    "Lượng_bia_TB = drink['beer_servings'].mean()\n",
    "print(\"Lượng bia trung bình mà các nước tiêu thụ là : \\n\",Lượng_bia_TB)"
   ]
  },
  {
   "cell_type": "code",
   "execution_count": 3,
   "metadata": {},
   "outputs": [
    {
     "name": "stdout",
     "output_type": "stream",
     "text": [
      "Thông tin tổng quát về số lượng rượu vang được tiêu thụ là: \n",
      "            count        mean        std  min   25%    50%     75%    max\n",
      "continent                                                               \n",
      "AF          53.0   16.264151  38.846419  0.0   1.0    2.0   13.00  233.0\n",
      "AS          44.0    9.068182  21.667034  0.0   0.0    1.0    8.00  123.0\n",
      "EU          45.0  142.222222  97.421738  0.0  59.0  128.0  195.00  370.0\n",
      "OC          16.0   35.625000  64.555790  0.0   1.0    8.5   23.25  212.0\n",
      "SA          12.0   62.416667  88.620189  1.0   3.0   12.0   98.50  221.0\n"
     ]
    }
   ],
   "source": [
    "describe_wine = drink['wine_servings'].groupby(drink['continent']).describe()\n",
    "print(\"Thông tin tổng quát về số lượng rượu vang được tiêu thụ là: \\n\",describe_wine)"
   ]
  },
  {
   "cell_type": "code",
   "execution_count": 4,
   "metadata": {},
   "outputs": [
    {
     "name": "stdout",
     "output_type": "stream",
     "text": [
      "Lượng bia tiêu thụ trung bình theo lục địa là:\n",
      " continent\n",
      "AF     61.471698\n",
      "AS     37.045455\n",
      "EU    193.777778\n",
      "OC     89.687500\n",
      "SA    175.083333\n",
      "Name: beer_servings, dtype: float64\n",
      "Lượng rượu vang tiêu thụ trung bình theo lục địa là:\n",
      " continent\n",
      "AF     16.264151\n",
      "AS      9.068182\n",
      "EU    142.222222\n",
      "OC     35.625000\n",
      "SA     62.416667\n",
      "Name: wine_servings, dtype: float64\n"
     ]
    }
   ],
   "source": [
    "Average_beer_consumed_by_continent = drink['beer_servings'].groupby(drink['continent']).mean()\n",
    "Average_wine_consumed_by_continent = drink['wine_servings'].groupby(drink['continent']).mean()\n",
    "print(\"Lượng bia tiêu thụ trung bình theo lục địa là:\\n\",Average_beer_consumed_by_continent)\n",
    "print(\"Lượng rượu vang tiêu thụ trung bình theo lục địa là:\\n\",Average_wine_consumed_by_continent)"
   ]
  },
  {
   "cell_type": "code",
   "execution_count": 5,
   "metadata": {},
   "outputs": [
    {
     "name": "stdout",
     "output_type": "stream",
     "text": [
      "Giá trị trung vị của lượng bia tiêu thụ theo lục địa là:\n",
      " continent\n",
      "AF     32.0\n",
      "AS     17.5\n",
      "EU    219.0\n",
      "OC     52.5\n",
      "SA    162.5\n",
      "Name: beer_servings, dtype: float64 \n",
      " Giá trị của rượu là:\n",
      " continent\n",
      "AF      3.0\n",
      "AS     16.0\n",
      "EU    122.0\n",
      "OC     37.0\n",
      "SA    108.5\n",
      "Name: spirit_servings, dtype: float64\n"
     ]
    }
   ],
   "source": [
    "Median_of_beer_consumed_by_continent = drink['beer_servings'].groupby(drink['continent']).median()\n",
    "Median_of_spirit_consumed_by_continent = drink['spirit_servings'].groupby(drink['continent']).median()\n",
    "print('Giá trị trung vị của lượng bia tiêu thụ theo lục địa là:\\n',Median_of_beer_consumed_by_continent,'\\n Giá trị của rượu là:\\n',Median_of_spirit_consumed_by_continent)"
   ]
  },
  {
   "cell_type": "code",
   "execution_count": 6,
   "metadata": {},
   "outputs": [
    {
     "name": "stdout",
     "output_type": "stream",
     "text": [
      "Số lượng rượu mạnh được tiêu thụ trung bình theo mỗi châu lục là: \n",
      "  continent\n",
      "AF     16.339623\n",
      "AS     60.840909\n",
      "EU    132.555556\n",
      "OC     58.437500\n",
      "SA    114.750000\n",
      "Name: spirit_servings, dtype: float64\n",
      "Số lượng rượu mạnh được tiêu thụ nhiều nhất theo châu lục là: \n",
      " continent\n",
      "AF    152\n",
      "AS    326\n",
      "EU    373\n",
      "OC    254\n",
      "SA    302\n",
      "Name: spirit_servings, dtype: int64\n",
      "Số lượng rượu mạnh được tiêu thụ ít nhất theo châu lục là:\n",
      " continent\n",
      "AF     0\n",
      "AS     0\n",
      "EU     0\n",
      "OC     0\n",
      "SA    25\n",
      "Name: spirit_servings, dtype: int64\n"
     ]
    }
   ],
   "source": [
    "Average_spirit_consumed_by_continent = drink['spirit_servings'].groupby(drink['continent']).mean()\n",
    "Max_spirit_consumed_by_continent = drink['spirit_servings'].groupby(drink['continent']).max()\n",
    "Min_spirit_consumed_by_continent = drink['spirit_servings'].groupby(drink['continent']).min()\n",
    "print('Số lượng rượu mạnh được tiêu thụ trung bình theo mỗi châu lục là: \\n ',Average_spirit_consumed_by_continent)\n",
    "print(\"Số lượng rượu mạnh được tiêu thụ nhiều nhất theo châu lục là: \\n\",Max_spirit_consumed_by_continent)\n",
    "print(\"Số lượng rượu mạnh được tiêu thụ ít nhất theo châu lục là:\\n\",Min_spirit_consumed_by_continent)"
   ]
  },
  {
   "cell_type": "code",
   "execution_count": 8,
   "metadata": {},
   "outputs": [
    {
     "name": "stdout",
     "output_type": "stream",
     "text": [
      "Dữ liệu tăng dần theo lượng bia tiêu thụ là:\n",
      "             country  beer_servings  spirit_servings  wine_servings  \\\n",
      "0       Afghanistan              0                0              0   \n",
      "40     Cook Islands              0              254             74   \n",
      "79             Iran              0                0              0   \n",
      "90           Kuwait              0                0              0   \n",
      "97            Libya              0                0              0   \n",
      "..              ...            ...              ...            ...   \n",
      "135          Poland            343              215             56   \n",
      "65          Germany            346              117            175   \n",
      "62            Gabon            347               98             59   \n",
      "45   Czech Republic            361              170            134   \n",
      "117         Namibia            376                3              1   \n",
      "\n",
      "     total_litres_of_pure_alcohol continent  \n",
      "0                             0.0        AS  \n",
      "40                            5.9        OC  \n",
      "79                            0.0        AS  \n",
      "90                            0.0        AS  \n",
      "97                            0.0        AF  \n",
      "..                            ...       ...  \n",
      "135                          10.9        EU  \n",
      "65                           11.3        EU  \n",
      "62                            8.9        AF  \n",
      "45                           11.8        EU  \n",
      "117                           6.8        AF  \n",
      "\n",
      "[193 rows x 6 columns]\n"
     ]
    }
   ],
   "source": [
    "Ascending_value_for_beer_consumed = drink.sort_values(by = ['beer_servings'],ascending = [True])\n",
    "print('Dữ liệu tăng dần theo lượng bia tiêu thụ là:\\n',Ascending_value_for_beer_consumed)"
   ]
  },
  {
   "cell_type": "code",
   "execution_count": 11,
   "metadata": {},
   "outputs": [
    {
     "name": "stdout",
     "output_type": "stream",
     "text": [
      "5 quốc gia tiêu thụ bia nhiều nhất là:\n",
      "             country  beer_servings  spirit_servings  wine_servings  \\\n",
      "117         Namibia            376                3              1   \n",
      "45   Czech Republic            361              170            134   \n",
      "62            Gabon            347               98             59   \n",
      "65          Germany            346              117            175   \n",
      "98        Lithuania            343              244             56   \n",
      "\n",
      "     total_litres_of_pure_alcohol continent  \n",
      "117                           6.8        AF  \n",
      "45                           11.8        EU  \n",
      "62                            8.9        AF  \n",
      "65                           11.3        EU  \n",
      "98                           12.9        EU  \n",
      "5 quốc gia tiêu thụ bia ít nhất : \n",
      "          country  beer_servings  spirit_servings  wine_servings  \\\n",
      "0    Afghanistan              0                0              0   \n",
      "40  Cook Islands              0              254             74   \n",
      "79          Iran              0                0              0   \n",
      "90        Kuwait              0                0              0   \n",
      "97         Libya              0                0              0   \n",
      "\n",
      "    total_litres_of_pure_alcohol continent  \n",
      "0                            0.0        AS  \n",
      "40                           5.9        OC  \n",
      "79                           0.0        AS  \n",
      "90                           0.0        AS  \n",
      "97                           0.0        AF  \n"
     ]
    }
   ],
   "source": [
    "Bottom_5_country_beer_consumer = Ascending_value_for_beer_consumed.head(5)\n",
    "Top_5_country_beer_consumer = drink.sort_values(by = ['beer_servings'],ascending = [False]).head(5)\n",
    "\n",
    "print(\"5 quốc gia tiêu thụ bia nhiều nhất là:\\n\",Top_5_country_beer_consumer)\n",
    "print(\"5 quốc gia tiêu thụ bia ít nhất : \\n\",Bottom_5_country_beer_consumer)"
   ]
  }
 ],
 "metadata": {
  "kernelspec": {
   "display_name": "Python 3",
   "language": "python",
   "name": "python3"
  },
  "language_info": {
   "codemirror_mode": {
    "name": "ipython",
    "version": 3
   },
   "file_extension": ".py",
   "mimetype": "text/x-python",
   "name": "python",
   "nbconvert_exporter": "python",
   "pygments_lexer": "ipython3",
   "version": "3.10.0"
  }
 },
 "nbformat": 4,
 "nbformat_minor": 2
}
