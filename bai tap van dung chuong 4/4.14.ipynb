{
 "cells": [
  {
   "cell_type": "code",
   "execution_count": 1,
   "metadata": {},
   "outputs": [
    {
     "name": "stdout",
     "output_type": "stream",
     "text": [
      "Sai số bình phương trung bình của hai chuỗi là: \n",
      " 0.3845873400192859\n"
     ]
    }
   ],
   "source": [
    "import numpy as np\n",
    "import pandas as pd\n",
    "\n",
    "truth = pd.Series(range(10))\n",
    "pred = pd.Series(range(10))+ np.random.random(10)\n",
    "\n",
    "sai_số = truth - pred\n",
    "sai_số_bình_phương = sai_số ** 2\n",
    "\n",
    "TB_bình_phương_sai_số = sai_số_bình_phương.mean()\n",
    "\n",
    "print(\"Sai số bình phương trung bình của hai chuỗi là: \\n\",TB_bình_phương_sai_số)"
   ]
  }
 ],
 "metadata": {
  "kernelspec": {
   "display_name": "Python 3",
   "language": "python",
   "name": "python3"
  },
  "language_info": {
   "codemirror_mode": {
    "name": "ipython",
    "version": 3
   },
   "file_extension": ".py",
   "mimetype": "text/x-python",
   "name": "python",
   "nbconvert_exporter": "python",
   "pygments_lexer": "ipython3",
   "version": "3.10.0"
  }
 },
 "nbformat": 4,
 "nbformat_minor": 2
}
