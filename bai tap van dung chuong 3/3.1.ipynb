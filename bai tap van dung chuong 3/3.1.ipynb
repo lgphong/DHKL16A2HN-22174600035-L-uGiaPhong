{
 "cells": [
  {
   "cell_type": "code",
   "execution_count": null,
   "metadata": {},
   "outputs": [],
   "source": [
    "\n",
    "import numpy as np\n",
    "\n",
    "print(\"Phiên bản Numpy hiện tại là:\", np.__version__)\n",
    "\n",
    "print(\"Cấu hình xây dựng của Numpy là:\")\n",
    "np.show_config()\n"
   ]
  },
  {
   "cell_type": "code",
   "execution_count": null,
   "metadata": {},
   "outputs": [],
   "source": [
    "\n",
    "import numpy as np\n",
    "arr = np.arange(10)\n",
    "\n",
    "print(\"Các phần tử có trong arr là:\", arr)\n",
    "\n",
    "print(\"Kiểu dữ liệu của arr là:\", arr.dtype)\n",
    "print(\"Kích thước của arr là:\", arr.shape)\n",
    "\n",
    "arr_odd = arr[arr % 2 == 1] \n",
    "arr_even = arr[arr % 2 == 0] \n",
    "\n",
    "print(\"arr_odd là:\", arr_odd)\n",
    "print(\"arr_even là:\", arr_even)\n",
    "\n",
    "arr_update_1 = arr.copy() \n",
    "arr_update_1[arr_update_1 % 2 == 1] = 100 \n",
    "\n",
    "print(\"arr_update_1 là:\", arr_update_1)\n"
   ]
  },
  {
   "cell_type": "code",
   "execution_count": null,
   "metadata": {},
   "outputs": [],
   "source": [
    "Nhập thư viện Numpy\n",
    "import numpy as np\n",
    "\n",
    "arr_a = np.array([1, 2, 3, 2, 3, 4, 3, 4, 5, 6])\n",
    "arr_b = np.array([7, 2, 10, 2, 7, 4, 9, 4, 9, 8])\n",
    "\n",
    "\n",
    "arr_c = np.intersect1d(arr_a, arr_b)\n",
    "print(\"arr_c là:\", arr_c)\n",
    "\n",
    "arr_d = np.setdiff1d(arr_a, arr_b)\n",
    "\n",
    "print(\"arr_d là:\", arr_d)\n",
    "\n",
    "arr_e = np.array([2, 6, 1, 9, 10, 3, 27, 8, 6, 25, 16])\n",
    "\n",
    "arr_f = arr_e[(arr_e >= 5) & (arr_e <= 10)]\n",
    "\n",
    "print(\"arr_f là:\", arr_f)\n"
   ]
  },
  {
   "cell_type": "code",
   "execution_count": 4,
   "metadata": {},
   "outputs": [
    {
     "name": "stdout",
     "output_type": "stream",
     "text": [
      "arr_zeros là: [0. 0. 0. 0. 1. 0. 0. 0. 0. 0.]\n",
      "arr_h_reverse là: [24 23 22 21 20 19 18 17 16 15 14 13 12 11 10]\n",
      "arr_1 là: [1 2 8 2 1 3 5]\n",
      "arr_1 là: [ 1  2  8  2  1  3  5 10 20]\n",
      "arr_1 là: [  1   2   8   2   1 100   3   5  10  20]\n",
      "arr_1 là: [  2   1 100   3   5  10  20]\n"
     ]
    }
   ],
   "source": [
    "\n",
    "import numpy as np\n",
    "\n",
    "arr_zeros = np.zeros(10)\n",
    "arr_zeros[4] = 1\n",
    "\n",
    "\n",
    "print(\"arr_zeros là:\", arr_zeros)\n",
    "\n",
    "\n",
    "arr_h = np.arange(10, 25) \n",
    "\n",
    "\n",
    "arr_h_reverse = np.flip(arr_h)\n",
    "\n",
    "print(\"arr_h_reverse là:\", arr_h_reverse)\n",
    "\n",
    "\n",
    "arr_k = np.array([1, 2, 0, 8, 2, 0, 1, 3, 0, 5, 0])\n",
    "\n",
    "arr_1 = arr_k[arr_k != 0]\n",
    "\n",
    "\n",
    "print(\"arr_1 là:\", arr_1)\n",
    "\n",
    "\n",
    "arr_1 = np.append(arr_1, [10, 20])\n",
    "\n",
    "print(\"arr_1 là:\", arr_1)\n",
    "\n",
    "arr_1 = np.insert(arr_1, 5, 100)\n",
    "\n",
    "\n",
    "print(\"arr_1 là:\", arr_1)\n",
    "\n",
    "\n",
    "arr_1 = np.delete(arr_1, [0, 1, 2])\n",
    "\n",
    "print(\"arr_1 là:\", arr_1)\n"
   ]
  }
 ],
 "metadata": {
  "kernelspec": {
   "display_name": "base",
   "language": "python",
   "name": "python3"
  },
  "language_info": {
   "codemirror_mode": {
    "name": "ipython",
    "version": 3
   },
   "file_extension": ".py",
   "mimetype": "text/x-python",
   "name": "python",
   "nbconvert_exporter": "python",
   "pygments_lexer": "ipython3",
   "version": "3.11.5"
  }
 },
 "nbformat": 4,
 "nbformat_minor": 2
}
