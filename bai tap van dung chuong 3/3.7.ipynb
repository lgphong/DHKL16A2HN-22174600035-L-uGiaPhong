{
 "cells": [
  {
   "cell_type": "code",
   "execution_count": null,
   "metadata": {},
   "outputs": [],
   "source": [
    "\n",
    "import numpy as np\n",
    "\n",
    "with open(\"baseball_2D.txt\", \"r\") as f:\n",
    "    baseball = f.read().splitlines() \n",
    "\n",
    "np_baseball = np.array(baseball, dtype=float) \n",
    "\n",
    "print(\"Kiểu dữ liệu của np_baseball là:\", np_baseball.dtype)\n",
    "print(\"Kích thước của np_baseball là:\", np_baseball.shape)\n",
    "\n",
    "\n",
    "row_50 = np_baseball[49] \n",
    "\n",
    "\n",
    "print(\"Các giá trị của dòng thứ 50 trong np_baseball là:\", row_50)\n",
    "\n",
    "np_weight = np_baseball[:, 1]\n",
    "\n",
    "print(\"np_weight là:\", np_weight)\n",
    "\n",
    "height_124 = np_baseball[123, 0] \n",
    "\n",
    "print(\"Chiều cao của vận động viên thứ 124 là:\", height_124)\n",
    "\n",
    "height_mean = np.mean(np_baseball[:, 0])\n",
    "weight_mean = np.mean(np_baseball[:, 1]) \n",
    "\n",
    "\n",
    "print(\"Chiều cao trung bình của các cầu thủ là:\", height_mean)\n",
    "print(\"Cân nặng trung bình của các cầu thủ là:\", weight_mean)\n",
    "\n",
    "corr = np.corrcoef(np_baseball[:, 0], np_baseball[:, 1]) \n",
    "\n",
    "print(\"Hệ số tương quan giữa chiều cao và cân nặng của các cầu thủ là:\", corr)\n",
    "\n"
   ]
  }
 ],
 "metadata": {
  "language_info": {
   "name": "python"
  }
 },
 "nbformat": 4,
 "nbformat_minor": 2
}
