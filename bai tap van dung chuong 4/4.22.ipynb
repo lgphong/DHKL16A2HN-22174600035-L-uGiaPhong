{
 "cells": [
  {
   "cell_type": "code",
   "execution_count": 25,
   "metadata": {},
   "outputs": [
    {
     "name": "stdout",
     "output_type": "stream",
     "text": [
      "dữ liệu cho 5 dòng dữ liệu đầu tiên của stock1 là:\n",
      "        date symbol     open     high      low    close   volume\n",
      "0  01-03-19   AMZN  1655.13  1674.26  1651.00  1671.73  4974877\n",
      "1  04-03-19   AMZN  1685.00  1709.43  1674.36  1696.17  6167358\n",
      "2  05-03-19   AMZN  1702.95  1707.80  1689.01  1692.43  3681522\n",
      "3  06-03-19   AMZN  1695.97      NaN      NaN  1668.95  3996001\n",
      "4  07-03-19   AMZN  1667.37  1669.75  1620.51  1625.95  4957017\n",
      "dữ liệu cho 5 dòng dữ liệu cuối của stocks1 là:\n",
      "         date symbol     open     high      low    close   volume\n",
      "10  01-03-19   GOOG  1124.90  1142.97  1124.75  1140.99  1450316\n",
      "11  04-03-19   GOOG  1146.99  1158.28  1130.69  1147.80  1446047\n",
      "12  05-03-19   GOOG  1150.06      NaN      NaN  1162.03  1443174\n",
      "13  06-03-19   GOOG  1162.49  1167.57  1155.49  1157.86  1099289\n",
      "14  07-03-19   GOOG  1155.72  1156.76  1134.91  1143.30  1166559\n",
      "kiểu dữ liệu của stock1 là:\n",
      " date       object\n",
      "symbol     object\n",
      "open      float64\n",
      "high      float64\n",
      "low       float64\n",
      "close     float64\n",
      "volume      int64\n",
      "dtype: object\n",
      "<class 'pandas.core.frame.DataFrame'>\n",
      "RangeIndex: 15 entries, 0 to 14\n",
      "Data columns (total 7 columns):\n",
      " #   Column  Non-Null Count  Dtype  \n",
      "---  ------  --------------  -----  \n",
      " 0   date    15 non-null     object \n",
      " 1   symbol  15 non-null     object \n",
      " 2   open    15 non-null     float64\n",
      " 3   high    13 non-null     float64\n",
      " 4   low     13 non-null     float64\n",
      " 5   close   15 non-null     float64\n",
      " 6   volume  15 non-null     int64  \n",
      "dtypes: float64(4), int64(1), object(2)\n",
      "memory usage: 968.0+ bytes\n",
      "Thông tin của stock1 là:\n",
      " None\n"
     ]
    }
   ],
   "source": [
    "import pandas as pd\n",
    "import numpy as np\n",
    "stock1 = pd.read_csv('stocks1.csv')\n",
    "print('dữ liệu cho 5 dòng dữ liệu đầu tiên của stock1 là:\\n',stock1.head(5))\n",
    "print('dữ liệu cho 5 dòng dữ liệu cuối của stocks1 là:\\n',stock1.tail(5))\n",
    "print('kiểu dữ liệu của stock1 là:\\n',stock1.dtypes)\n",
    "print('Thông tin của stock1 là:\\n',stock1.info())"
   ]
  },
  {
   "cell_type": "code",
   "execution_count": 26,
   "metadata": {},
   "outputs": [
    {
     "name": "stdout",
     "output_type": "stream",
     "text": [
      "5 dòng dữ liệu đầu của stock2 là:\n",
      "        date symbol    open     high     low   close    volume\n",
      "0  01-03-19     FB  162.60  163.132  161.69  162.28  11097770\n",
      "1  04-03-19     FB  163.90  167.500  163.83  167.37  18894689\n",
      "2  05-03-19     FB  167.37  171.880  166.55  171.26  28187890\n",
      "3  06-03-19     FB  172.90  173.570  171.27  172.51  21531723\n",
      "4  07-03-19     FB  171.50  171.740  167.61  169.13  18306504\n",
      "5 dòng dữ liệu cuối của stock2  là:\n",
      "        date symbol    open      high     low   close    volume\n",
      "5  01-03-19   TSLA  306.94  307.1300  291.90  294.79  22911375\n",
      "6  04-03-19   TSLA  298.12  299.0000  282.78  285.36  17096818\n",
      "7  05-03-19   TSLA  282.00  284.0000  270.10  276.54  18764740\n",
      "8  06-03-19   TSLA  276.48  281.5058  274.39  276.24  10335485\n",
      "9  07-03-19   TSLA  278.84  284.7000  274.25  276.59   9442483\n",
      "kiểu dữ liệu của stock2 là:\n",
      " date       object\n",
      "symbol     object\n",
      "open      float64\n",
      "high      float64\n",
      "low       float64\n",
      "close     float64\n",
      "volume      int64\n",
      "dtype: object\n",
      "<class 'pandas.core.frame.DataFrame'>\n",
      "RangeIndex: 10 entries, 0 to 9\n",
      "Data columns (total 7 columns):\n",
      " #   Column  Non-Null Count  Dtype  \n",
      "---  ------  --------------  -----  \n",
      " 0   date    10 non-null     object \n",
      " 1   symbol  10 non-null     object \n",
      " 2   open    10 non-null     float64\n",
      " 3   high    10 non-null     float64\n",
      " 4   low     10 non-null     float64\n",
      " 5   close   10 non-null     float64\n",
      " 6   volume  10 non-null     int64  \n",
      "dtypes: float64(4), int64(1), object(2)\n",
      "memory usage: 688.0+ bytes\n",
      "thông tin của stock2 là:\n",
      " None\n"
     ]
    }
   ],
   "source": [
    "stock2 = pd.read_csv('stocks2.csv')\n",
    "print('5 dòng dữ liệu đầu của stock2 là:\\n',stock2.head(5))\n",
    "print('5 dòng dữ liệu cuối của stock2  là:\\n',stock2.tail(5))\n",
    "print('kiểu dữ liệu của stock2 là:\\n',stock2.dtypes)\n",
    "print('thông tin của stock2 là:\\n',stock2.info())"
   ]
  },
  {
   "cell_type": "code",
   "execution_count": 27,
   "metadata": {},
   "outputs": [
    {
     "name": "stdout",
     "output_type": "stream",
     "text": [
      "   name  employees headquarters_city headquarters_state\n",
      "0  AMZN     613300           Seattle                 WA\n",
      "1  GOOG      98771     Mountain View                 CA\n",
      "2  AAPL     132000         Cupertino                 CA\n",
      "kiểu dữ liệu của companies là:\n",
      " name                  object\n",
      "employees              int64\n",
      "headquarters_city     object\n",
      "headquarters_state    object\n",
      "dtype: object\n",
      "<class 'pandas.core.frame.DataFrame'>\n",
      "RangeIndex: 5 entries, 0 to 4\n",
      "Data columns (total 4 columns):\n",
      " #   Column              Non-Null Count  Dtype \n",
      "---  ------              --------------  ----- \n",
      " 0   name                5 non-null      object\n",
      " 1   employees           5 non-null      int64 \n",
      " 2   headquarters_city   5 non-null      object\n",
      " 3   headquarters_state  5 non-null      object\n",
      "dtypes: int64(1), object(3)\n",
      "memory usage: 288.0+ bytes\n",
      "Thông tin của companies là:\n",
      " None\n"
     ]
    }
   ],
   "source": [
    "df_stock_companies = pd.read_csv('companies.csv')\n",
    "print(df_stock_companies.head(3))\n",
    "print('kiểu dữ liệu của companies là:\\n',df_stock_companies.dtypes)\n",
    "print('Thông tin của companies là:\\n',df_stock_companies.info())"
   ]
  },
  {
   "cell_type": "code",
   "execution_count": 28,
   "metadata": {},
   "outputs": [
    {
     "name": "stdout",
     "output_type": "stream",
     "text": [
      "<class 'pandas.core.frame.DataFrame'>\n",
      "RangeIndex: 15 entries, 0 to 14\n",
      "Data columns (total 7 columns):\n",
      " #   Column  Non-Null Count  Dtype  \n",
      "---  ------  --------------  -----  \n",
      " 0   date    15 non-null     object \n",
      " 1   symbol  15 non-null     object \n",
      " 2   open    15 non-null     float64\n",
      " 3   high    15 non-null     float64\n",
      " 4   low     13 non-null     float64\n",
      " 5   close   15 non-null     float64\n",
      " 6   volume  15 non-null     int64  \n",
      "dtypes: float64(4), int64(1), object(2)\n",
      "memory usage: 968.0+ bytes\n",
      "stock1 có chứa giá trị Null !!! \n",
      " None\n"
     ]
    }
   ],
   "source": [
    "if stock1.isnull().values.any():\n",
    "    stock1['high'].fillna(stock1.groupby('symbol')['high'].transform('max'),inplace=True)\n",
    "    print('stock1 có chứa giá trị Null !!! \\n',stock1.info())\n",
    "else:\n",
    "    print('Không có giá trị Null trong stock1 !!!')"
   ]
  },
  {
   "cell_type": "code",
   "execution_count": 29,
   "metadata": {},
   "outputs": [
    {
     "name": "stdout",
     "output_type": "stream",
     "text": [
      "<class 'pandas.core.frame.DataFrame'>\n",
      "RangeIndex: 15 entries, 0 to 14\n",
      "Data columns (total 7 columns):\n",
      " #   Column  Non-Null Count  Dtype  \n",
      "---  ------  --------------  -----  \n",
      " 0   date    15 non-null     object \n",
      " 1   symbol  15 non-null     object \n",
      " 2   open    15 non-null     float64\n",
      " 3   high    15 non-null     float64\n",
      " 4   low     15 non-null     float64\n",
      " 5   close   15 non-null     float64\n",
      " 6   volume  15 non-null     int64  \n",
      "dtypes: float64(4), int64(1), object(2)\n",
      "memory usage: 968.0+ bytes\n",
      "Có giá trị Null trong stock1 !!!,\n",
      " None\n"
     ]
    }
   ],
   "source": [
    "if stock1.isnull().values.any():\n",
    "    stock1['low'].fillna(stock1.groupby('symbol')['low'].transform('min'),inplace=True)\n",
    "    print('Có giá trị Null trong stock1 !!!,\\n',stock1.info())\n",
    "else:\n",
    "    print('không có giá trị Null trong stock1 !!!')"
   ]
  },
  {
   "cell_type": "code",
   "execution_count": 30,
   "metadata": {},
   "outputs": [
    {
     "name": "stdout",
     "output_type": "stream",
     "text": [
      "Dataframe sau khi gộp theo 15 dòng cuối là:\n",
      "         date symbol     open       high      low    close    volume\n",
      "10  01-03-19   GOOG  1124.90  1142.9700  1124.75  1140.99   1450316\n",
      "11  04-03-19   GOOG  1146.99  1158.2800  1130.69  1147.80   1446047\n",
      "12  05-03-19   GOOG  1150.06  1167.5700  1124.75  1162.03   1443174\n",
      "13  06-03-19   GOOG  1162.49  1167.5700  1155.49  1157.86   1099289\n",
      "14  07-03-19   GOOG  1155.72  1156.7600  1134.91  1143.30   1166559\n",
      "0   01-03-19     FB   162.60   163.1320   161.69   162.28  11097770\n",
      "1   04-03-19     FB   163.90   167.5000   163.83   167.37  18894689\n",
      "2   05-03-19     FB   167.37   171.8800   166.55   171.26  28187890\n",
      "3   06-03-19     FB   172.90   173.5700   171.27   172.51  21531723\n",
      "4   07-03-19     FB   171.50   171.7400   167.61   169.13  18306504\n",
      "5   01-03-19   TSLA   306.94   307.1300   291.90   294.79  22911375\n",
      "6   04-03-19   TSLA   298.12   299.0000   282.78   285.36  17096818\n",
      "7   05-03-19   TSLA   282.00   284.0000   270.10   276.54  18764740\n",
      "8   06-03-19   TSLA   276.48   281.5058   274.39   276.24  10335485\n",
      "9   07-03-19   TSLA   278.84   284.7000   274.25   276.59   9442483\n"
     ]
    }
   ],
   "source": [
    "df_stock = pd.concat([stock1,stock2])\n",
    "print('Dataframe sau khi gộp theo 15 dòng cuối là:\\n',df_stock.tail(15))"
   ]
  },
  {
   "cell_type": "code",
   "execution_count": 31,
   "metadata": {},
   "outputs": [
    {
     "name": "stdout",
     "output_type": "stream",
     "text": [
      "5 dòng dữ liệu đầu của stock_companies là:\n",
      "         date symbol     open       high      low    close      volume  name  \\\n",
      "0   01-03-19   AMZN  1655.13  1674.2600  1651.00  1671.73   4974877.0   NaN   \n",
      "1   04-03-19   AMZN  1685.00  1709.4300  1674.36  1696.17   6167358.0   NaN   \n",
      "2   05-03-19   AMZN  1702.95  1707.8000  1689.01  1692.43   3681522.0   NaN   \n",
      "3   06-03-19   AMZN  1695.97  1709.4300  1620.51  1668.95   3996001.0   NaN   \n",
      "4   07-03-19   AMZN  1667.37  1669.7500  1620.51  1625.95   4957017.0   NaN   \n",
      "5   01-03-19   AAPL   174.28   175.1500   172.89   174.97  25886167.0   NaN   \n",
      "6   04-03-19   AAPL   175.69   177.7500   173.97   175.85  27436203.0   NaN   \n",
      "7   05-03-19   AAPL   175.94   176.0000   174.54   175.53  19737419.0   NaN   \n",
      "8   06-03-19   AAPL   174.67   175.4900   173.94   174.52  20810384.0   NaN   \n",
      "9   07-03-19   AAPL   173.87   174.4400   172.02   172.50  24796374.0   NaN   \n",
      "10  01-03-19   GOOG  1124.90  1142.9700  1124.75  1140.99   1450316.0   NaN   \n",
      "11  04-03-19   GOOG  1146.99  1158.2800  1130.69  1147.80   1446047.0   NaN   \n",
      "12  05-03-19   GOOG  1150.06  1167.5700  1124.75  1162.03   1443174.0   NaN   \n",
      "13  06-03-19   GOOG  1162.49  1167.5700  1155.49  1157.86   1099289.0   NaN   \n",
      "14  07-03-19   GOOG  1155.72  1156.7600  1134.91  1143.30   1166559.0   NaN   \n",
      "0   01-03-19     FB   162.60   163.1320   161.69   162.28  11097770.0   NaN   \n",
      "1   04-03-19     FB   163.90   167.5000   163.83   167.37  18894689.0   NaN   \n",
      "2   05-03-19     FB   167.37   171.8800   166.55   171.26  28187890.0   NaN   \n",
      "3   06-03-19     FB   172.90   173.5700   171.27   172.51  21531723.0   NaN   \n",
      "4   07-03-19     FB   171.50   171.7400   167.61   169.13  18306504.0   NaN   \n",
      "5   01-03-19   TSLA   306.94   307.1300   291.90   294.79  22911375.0   NaN   \n",
      "6   04-03-19   TSLA   298.12   299.0000   282.78   285.36  17096818.0   NaN   \n",
      "7   05-03-19   TSLA   282.00   284.0000   270.10   276.54  18764740.0   NaN   \n",
      "8   06-03-19   TSLA   276.48   281.5058   274.39   276.24  10335485.0   NaN   \n",
      "9   07-03-19   TSLA   278.84   284.7000   274.25   276.59   9442483.0   NaN   \n",
      "0        NaN    NaN      NaN        NaN      NaN      NaN         NaN  AMZN   \n",
      "1        NaN    NaN      NaN        NaN      NaN      NaN         NaN  GOOG   \n",
      "2        NaN    NaN      NaN        NaN      NaN      NaN         NaN  AAPL   \n",
      "3        NaN    NaN      NaN        NaN      NaN      NaN         NaN    FB   \n",
      "4        NaN    NaN      NaN        NaN      NaN      NaN         NaN  TSLA   \n",
      "\n",
      "    employees headquarters_city headquarters_state  \n",
      "0         NaN               NaN                NaN  \n",
      "1         NaN               NaN                NaN  \n",
      "2         NaN               NaN                NaN  \n",
      "3         NaN               NaN                NaN  \n",
      "4         NaN               NaN                NaN  \n",
      "5         NaN               NaN                NaN  \n",
      "6         NaN               NaN                NaN  \n",
      "7         NaN               NaN                NaN  \n",
      "8         NaN               NaN                NaN  \n",
      "9         NaN               NaN                NaN  \n",
      "10        NaN               NaN                NaN  \n",
      "11        NaN               NaN                NaN  \n",
      "12        NaN               NaN                NaN  \n",
      "13        NaN               NaN                NaN  \n",
      "14        NaN               NaN                NaN  \n",
      "0         NaN               NaN                NaN  \n",
      "1         NaN               NaN                NaN  \n",
      "2         NaN               NaN                NaN  \n",
      "3         NaN               NaN                NaN  \n",
      "4         NaN               NaN                NaN  \n",
      "5         NaN               NaN                NaN  \n",
      "6         NaN               NaN                NaN  \n",
      "7         NaN               NaN                NaN  \n",
      "8         NaN               NaN                NaN  \n",
      "9         NaN               NaN                NaN  \n",
      "0    613300.0           Seattle                 WA  \n",
      "1     98771.0     Mountain View                 CA  \n",
      "2    132000.0         Cupertino                 CA  \n",
      "3     48268.0        Menlo Park                 CA  \n",
      "4     48016.0         Palo Alto                 CA  \n"
     ]
    }
   ],
   "source": [
    "df_stock_companies  = pd.concat([df_stock,df_stock_companies])\n",
    "print('5 dòng dữ liệu đầu của stock_companies là:\\n',df_stock_companies)"
   ]
  },
  {
   "cell_type": "code",
   "execution_count": 32,
   "metadata": {},
   "outputs": [
    {
     "name": "stdout",
     "output_type": "stream",
     "text": [
      "Giá trị trung bình của open là:\n",
      " 692.0672000000002\n",
      "Giá trị trung bình của high là:\n",
      " 697.8723120000001\n",
      "Giá trị trung bình của low là:\n",
      " 680.7084\n",
      "Giá trị trung bình của close là:\n",
      " 689.306\n",
      "Giá trị trung bình của volume là:\n",
      " 13024727.36\n"
     ]
    }
   ],
   "source": [
    "average_open = df_stock_companies['open'].mean()\n",
    "average_high = df_stock_companies['high'].mean()\n",
    "average_low = df_stock_companies['low'].mean()\n",
    "average_close = df_stock_companies['close'].mean()\n",
    "average_volume = df_stock_companies['volume'].mean()\n",
    "print('Giá trị trung bình của open là:\\n',average_open)\n",
    "print('Giá trị trung bình của high là:\\n',average_high)\n",
    "print('Giá trị trung bình của low là:\\n',average_low)\n",
    "print('Giá trị trung bình của close là:\\n',average_close)\n",
    "print('Giá trị trung bình của volume là:\\n',average_volume)"
   ]
  },
  {
   "cell_type": "code",
   "execution_count": 33,
   "metadata": {},
   "outputs": [
    {
     "name": "stdout",
     "output_type": "stream",
     "text": [
      "Giá trị đóng lớn nhât của mỗi cônt ty là:\n",
      " 1696.17\n",
      "Giá trị đóng cửa nhỏ nhất của mỗi công ty là:\n",
      " 162.28\n",
      "Giá trị đóng cửa trung bình của mỗi công ty là:\n",
      " 689.306\n"
     ]
    }
   ],
   "source": [
    "Max_close = df_stock_companies['close'].max()\n",
    "Min_close = df_stock_companies['close'].min()\n",
    "print(\"Giá trị đóng lớn nhât của mỗi cônt ty là:\\n\",Max_close)\n",
    "print(\"Giá trị đóng cửa nhỏ nhất của mỗi công ty là:\\n\",Min_close)\n",
    "print(\"Giá trị đóng cửa trung bình của mỗi công ty là:\\n\",average_close)"
   ]
  },
  {
   "cell_type": "code",
   "execution_count": 34,
   "metadata": {},
   "outputs": [
    {
     "name": "stdout",
     "output_type": "stream",
     "text": [
      "0    2019-01-03\n",
      "1    2019-04-03\n",
      "2    2019-05-03\n",
      "3    2019-06-03\n",
      "4    2019-07-03\n",
      "5    2019-01-03\n",
      "6    2019-04-03\n",
      "7    2019-05-03\n",
      "8    2019-06-03\n",
      "9    2019-07-03\n",
      "10   2019-01-03\n",
      "11   2019-04-03\n",
      "12   2019-05-03\n",
      "13   2019-06-03\n",
      "14   2019-07-03\n",
      "0    2019-01-03\n",
      "1    2019-04-03\n",
      "2    2019-05-03\n",
      "3    2019-06-03\n",
      "4    2019-07-03\n",
      "5    2019-01-03\n",
      "6    2019-04-03\n",
      "7    2019-05-03\n",
      "8    2019-06-03\n",
      "9    2019-07-03\n",
      "0           NaT\n",
      "1           NaT\n",
      "2           NaT\n",
      "3           NaT\n",
      "4           NaT\n",
      "Name: date, dtype: datetime64[ns]\n"
     ]
    },
    {
     "name": "stderr",
     "output_type": "stream",
     "text": [
      "C:\\Users\\phong\\AppData\\Local\\Temp\\ipykernel_5644\\419235079.py:1: UserWarning: Could not infer format, so each element will be parsed individually, falling back to `dateutil`. To ensure parsing is consistent and as-expected, please specify a format.\n",
      "  df_stock_companies = pd.to_datetime(df_stock_companies['date'])\n"
     ]
    }
   ],
   "source": [
    "df_stock_companies = pd.to_datetime(df_stock_companies['date'])\n",
    "print(df_stock_companies)"
   ]
  }
 ],
 "metadata": {
  "kernelspec": {
   "display_name": "Python 3",
   "language": "python",
   "name": "python3"
  },
  "language_info": {
   "codemirror_mode": {
    "name": "ipython",
    "version": 3
   },
   "file_extension": ".py",
   "mimetype": "text/x-python",
   "name": "python",
   "nbconvert_exporter": "python",
   "pygments_lexer": "ipython3",
   "version": "3.10.0"
  }
 },
 "nbformat": 4,
 "nbformat_minor": 2
}
