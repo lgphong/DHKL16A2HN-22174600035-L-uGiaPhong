{
 "cells": [
  {
   "cell_type": "code",
   "execution_count": null,
   "metadata": {},
   "outputs": [],
   "source": [
    "import numpy as np\n",
    "\n",
    "with open(\"heights.txt\", \"r\") as f:\n",
    "    heights = f.read().splitlines()\n",
    "\n",
    "with open(\"positions.txt\", \"r\") as f:\n",
    "    positions = f.read().splitlines()\n",
    "\n",
    "np_positions = np.array(positions)\n",
    "np_heights = np.array(heights, dtype=float)\n",
    "\n",
    "print(\"Kiểu dữ liệu của np_positions là:\", np_positions.dtype)\n",
    "print(\"Kiểu dữ liệu của np_heights là:\", np_heights.dtype)\n",
    "\n",
    "gk_heights = np_heights[np_positions == 'GK']\n",
    "gk_mean = np.mean(gk_heights)\n",
    "print(\"Chiều cao trung bình của các GK là:\", gk_mean)\n",
    "\n",
    "other_heights = np_heights[np_positions != 'GK']\n",
    "other_mean = np.mean(other_heights)\n",
    "print(\"Chiều cao trung bình của những vị trí khác là:\", other_mean)\n",
    "\n",
    "dt = np.dtype([('position', 'U2'), ('height', 'float')])\n",
    "players = np.array(list(zip(np_positions, np_heights)), dtype=dt)\n",
    "\n",
    "print(\"players là:\", players)\n",
    "\n",
    "players_sorted = np.sort(players, order='height')\n",
    "print(\"players_sorted là:\", players_sorted)\n",
    "\n",
    "min_height = players_sorted[0]\n",
    "max_height = players_sorted[-1]\n",
    "\n",
    "print(\"Vị trí có chiều cao thấp nhất là:\", min_height['position'])\n",
    "print(\"Chiều cao thấp nhất là:\", min_height['height'])\n",
    "print(\"Vị trí có chiều cao cao nhất là:\", max_height['position'])\n",
    "print(\"Chiều cao cao nhất là:\", max_height['height'])\n",
    "\n"
   ]
  }
 ],
 "metadata": {
  "language_info": {
   "name": "python"
  }
 },
 "nbformat": 4,
 "nbformat_minor": 2
}
