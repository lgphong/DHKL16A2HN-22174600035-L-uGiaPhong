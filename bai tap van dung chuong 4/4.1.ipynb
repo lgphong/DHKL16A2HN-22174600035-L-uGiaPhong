{
 "cells": [
  {
   "cell_type": "code",
   "execution_count": 16,
   "metadata": {},
   "outputs": [
    {
     "name": "stdout",
     "output_type": "stream",
     "text": [
      "0      0\n",
      "1      1\n",
      "2      2\n",
      "3      3\n",
      "4      4\n",
      "5      5\n",
      "6      6\n",
      "7      7\n",
      "8      8\n",
      "9      9\n",
      "10    10\n",
      "11    11\n",
      "12    12\n",
      "13    13\n",
      "14    14\n",
      "15    15\n",
      "16    16\n",
      "17    17\n",
      "18    18\n",
      "19    19\n",
      "20    20\n",
      "21    21\n",
      "22    22\n",
      "23    23\n",
      "24    24\n",
      "25    25\n",
      "dtype: int32\n",
      "a     0\n",
      "b     1\n",
      "c     2\n",
      "e     3\n",
      "d     4\n",
      "f     5\n",
      "g     6\n",
      "h     7\n",
      "j     8\n",
      "k     9\n",
      "l    10\n",
      "m    11\n",
      "n    12\n",
      "o    13\n",
      "p    14\n",
      "q    15\n",
      "r    16\n",
      "s    17\n",
      "t    18\n",
      "u    19\n",
      "v    20\n",
      "w    21\n",
      "x    22\n",
      "y    23\n",
      "z    24\n",
      "dtype: int32\n"
     ]
    }
   ],
   "source": [
    "import pandas as pd\n",
    "import numpy as np\n",
    "\n",
    "mylist = list('abcedfghjklmnopqrstuvwxyz')\n",
    "myarr = np.arange(26)\n",
    "mydict = dict(zip(mylist,myarr))\n",
    "\n",
    "chuoi_1 = pd.Series(mylist)\n",
    "chuoi_2 = pd.Series(myarr)\n",
    "chuoi_3 = pd.Series(mydict)\n",
    "print(chuoi_1)\n",
    "print(chuoi_2)\n",
    "print(chuoi_3)"
   ]
  }
 ],
 "metadata": {
  "kernelspec": {
   "display_name": "Python 3",
   "language": "python",
   "name": "python3"
  },
  "language_info": {
   "codemirror_mode": {
    "name": "ipython",
    "version": 3
   },
   "file_extension": ".py",
   "mimetype": "text/x-python",
   "name": "python",
   "nbconvert_exporter": "python",
   "pygments_lexer": "ipython3",
   "version": "3.10.0"
  }
 },
 "nbformat": 4,
 "nbformat_minor": 2
}
