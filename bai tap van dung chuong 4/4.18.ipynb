{
 "cells": [
  {
   "cell_type": "code",
   "execution_count": 2,
   "metadata": {},
   "outputs": [
    {
     "name": "stdout",
     "output_type": "stream",
     "text": [
      "Các địa chỉ emails hợp lệ là: \n",
      " ['rameses@egypt.com', 'matt@t.co', 'narenda@modi.com']\n",
      "Các địa chỉ emails không hợp lệ là: \n",
      " ['buying books at amazom.com']\n"
     ]
    }
   ],
   "source": [
    "import pandas as pd\n",
    "import re \n",
    "\n",
    "emails = pd.Series(['buying books at amazom.com', 'rameses@egypt.com' , 'matt@t.co' , 'narenda@modi.com'])\n",
    "pattern = '[A-Za-z0-9._%+-]+@[A-Za-z0-9.-]+\\\\.[A-Za-z]{2,4}'\n",
    "\n",
    "emails_HopLe =  []\n",
    "emails_KoHopLe = []\n",
    "for email in emails :\n",
    "    if re.match(pattern,email):\n",
    "        emails_HopLe.append(email)\n",
    "    else :\n",
    "        emails_KoHopLe.append(email)\n",
    "\n",
    "print(\"Các địa chỉ emails hợp lệ là: \\n\",emails_HopLe)\n",
    "print(\"Các địa chỉ emails không hợp lệ là: \\n\",emails_KoHopLe)\n",
    "\n",
    "\n"
   ]
  }
 ],
 "metadata": {
  "kernelspec": {
   "display_name": "Python 3",
   "language": "python",
   "name": "python3"
  },
  "language_info": {
   "codemirror_mode": {
    "name": "ipython",
    "version": 3
   },
   "file_extension": ".py",
   "mimetype": "text/x-python",
   "name": "python",
   "nbconvert_exporter": "python",
   "pygments_lexer": "ipython3",
   "version": "3.10.0"
  }
 },
 "nbformat": 4,
 "nbformat_minor": 2
}
