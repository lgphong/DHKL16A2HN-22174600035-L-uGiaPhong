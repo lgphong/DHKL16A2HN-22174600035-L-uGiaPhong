{
 "cells": [
  {
   "cell_type": "code",
   "execution_count": null,
   "metadata": {},
   "outputs": [],
   "source": [
    "import pandas as pd\n",
    "\n",
    "stocks1 = pd.read_csv('stocks1.csv')\n",
    "print(stocks1.head(5))\n",
    "print(stocks1.tail(5))\n",
    "print(stocks1.dtypes)\n",
    "print(stocks1.info())\n",
    "\n",
    "stocks2 = pd.read_csv('stocks2.csv')\n",
    "print(stocks2.head(5))\n",
    "print(stocks2.tail(5))\n",
    "print(stocks2.dtypes)\n",
    "print(stocks2.info())\n",
    "\n",
    "companies = pd.read_csv('companies.csv')\n",
    "print(companies)\n",
    "print(companies.dtypes)\n",
    "print(companies.info())\n",
    "\n",
    "print(stocks1.isnull().sum())\n",
    "stocks1['high'] = stocks1.groupby('symbol')['high'].transform(lambda x: x.fillna(x.max()))\n",
    "stocks1['low'] = stocks1.groupby('symbol')['low'].transform(lambda x: x.fillna(x.min()))\n",
    "print(stocks1.isnull().sum())\n",
    "\n",
    "stocks = pd.concat([stocks1, stocks2], axis=0)\n",
    "print(stocks.tail(15))\n",
    "\n",
    "stocks_companies = pd.merge(stocks, companies, on='symbol', how='left')\n",
    "print(stocks_companies.head(5))\n",
    "\n",
    "avg_price_volume = stocks_companies.groupby('name').agg({'open':'mean', 'high':'mean', 'low':'mean', 'close':'mean', 'volume':'mean'})\n",
    "print(avg_price_volume)\n",
    "\n",
    "close_stats = stocks_companies.groupby('name')['close'].agg(['mean', 'max', 'min'])\n",
    "print(close_stats)\n",
    "\n",
    "stocks_companies['parsed_time'] = pd.to_datetime(stocks_companies['date'])\n",
    "print(stocks_companies['parsed_time'].dtype)\n",
    "print(stocks_companies.head(5))\n",
    "\n",
    "stocks_companies['result'] = stocks_companies.apply(lambda x: 'up' if x['close'] > x['open'] else 'down', axis=1)\n",
    "print(stocks_companies)\n"
   ]
  }
 ],
 "metadata": {
  "kernelspec": {
   "display_name": "Python 3",
   "language": "python",
   "name": "python3"
  },
  "language_info": {
   "codemirror_mode": {
    "name": "ipython",
    "version": 3
   },
   "file_extension": ".py",
   "mimetype": "text/x-python",
   "name": "python",
   "nbconvert_exporter": "python",
   "pygments_lexer": "ipython3",
   "version": "3.10.0"
  }
 },
 "nbformat": 4,
 "nbformat_minor": 2
}
