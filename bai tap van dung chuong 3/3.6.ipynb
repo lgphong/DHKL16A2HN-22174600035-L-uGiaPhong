{
 "cells": [
  {
   "cell_type": "code",
   "execution_count": null,
   "metadata": {},
   "outputs": [],
   "source": [
    "\n",
    "import numpy as np\n",
    "\n",
    "arr = np.full((3, 3), True)\n",
    "\n",
    "\n",
    "print(\"arr là:\", arr)\n",
    "\n",
    "arr_ID = np.array([0, 1, 2, 3, 5, 6, 7, 8])\n",
    "\n",
    "arr_2D = np.reshape(arr_ID, (3, 3))\n",
    "\n",
    "print(\"arr_2D là:\", arr_2D)\n",
    "\n",
    "arr_2D = np.swapaxes(arr_2D, 0, 1)\n",
    "\n",
    "print(\"arr_2D sau khi chuyển cột là:\", arr_2D)\n",
    "\n",
    "arr_2D = np.swapaxes(arr_2D, 1, 2)\n",
    "\n",
    "print(\"arr_2D sau khi chuyển dòng là:\", arr_2D)\n",
    "\n",
    "arr_2D = np.flip(arr_2D, 0)\n",
    "\n",
    "print(\"arr_2D sau khi đào ngược các dòng là:\", arr_2D)\n",
    "\n",
    "arr_2D = np.flip(arr_2D, 1)\n",
    "\n",
    "print(\"arr_2D sau khi đào ngược các cột là:\", arr_2D)\n",
    "\n",
    "arr_2D_null = np.array([[1, 2, 3], [np.NaN, 5, 6], [7, np.NaN, 9], [4, 5, 6]]) \n",
    "\n",
    "null_check = np.isnan(arr_2D_null) \n",
    "\n",
    "print(\"null_check là:\", null_check)\n",
    "\n",
    "arr_2D_null = np.nan_to_num(arr_2D_null)\n",
    "\n",
    "print(\"arr_2D_null sau khi thay thế giá trị null bằng 0 là:\", arr_2D_null)\n"
   ]
  }
 ],
 "metadata": {
  "language_info": {
   "name": "python"
  }
 },
 "nbformat": 4,
 "nbformat_minor": 2
}
